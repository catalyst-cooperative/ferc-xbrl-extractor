{
 "cells": [
  {
   "cell_type": "markdown",
   "id": "d9d7f81f-e654-46bf-b9da-020066c31888",
   "metadata": {},
   "source": [
    "# Notebook to map respondent ID to entity ID"
   ]
  },
  {
   "cell_type": "code",
   "execution_count": 1,
   "id": "61d162b1-0ef8-4387-b128-977574b48e6e",
   "metadata": {},
   "outputs": [],
   "source": [
    "import pandas as pd\n",
    "import numpy as np\n",
    "from sqlalchemy import create_engine"
   ]
  },
  {
   "cell_type": "code",
   "execution_count": 2,
   "id": "8d4716ae-7534-4758-be03-cfad971653de",
   "metadata": {},
   "outputs": [],
   "source": [
    "engine = create_engine(\"sqlite:///ferc1.sqlite\")\n",
    "\n",
    "id_table = pd.read_sql(\n",
    "    \"SELECT filing_name, entity_id FROM identification_001_duration\",\n",
    "    engine,\n",
    "    parse_dates=[\"start_date\", \"end_date\"]\n",
    ")"
   ]
  },
  {
   "cell_type": "code",
   "execution_count": 3,
   "id": "7b1b188f-fb30-4df3-8f25-1f299029838c",
   "metadata": {},
   "outputs": [
    {
     "data": {
      "text/html": [
       "<div>\n",
       "<style scoped>\n",
       "    .dataframe tbody tr th:only-of-type {\n",
       "        vertical-align: middle;\n",
       "    }\n",
       "\n",
       "    .dataframe tbody tr th {\n",
       "        vertical-align: top;\n",
       "    }\n",
       "\n",
       "    .dataframe thead th {\n",
       "        text-align: right;\n",
       "    }\n",
       "</style>\n",
       "<table border=\"1\" class=\"dataframe\">\n",
       "  <thead>\n",
       "    <tr style=\"text-align: right;\">\n",
       "      <th></th>\n",
       "      <th>filing_name</th>\n",
       "      <th>entity_id</th>\n",
       "    </tr>\n",
       "  </thead>\n",
       "  <tbody>\n",
       "    <tr>\n",
       "      <th>0</th>\n",
       "      <td>AepAppalachianTransmissionCompanyInc-436-2011Q3F1</td>\n",
       "      <td>R001436</td>\n",
       "    </tr>\n",
       "    <tr>\n",
       "      <th>1</th>\n",
       "      <td>AepAppalachianTransmissionCompanyInc-436-2011Q4F1</td>\n",
       "      <td>R001436</td>\n",
       "    </tr>\n",
       "    <tr>\n",
       "      <th>2</th>\n",
       "      <td>AepGeneratingCompany-1-2011Q3F1</td>\n",
       "      <td>C003184</td>\n",
       "    </tr>\n",
       "    <tr>\n",
       "      <th>3</th>\n",
       "      <td>AepGeneratingCompany-1-2011Q4F1</td>\n",
       "      <td>C003184</td>\n",
       "    </tr>\n",
       "    <tr>\n",
       "      <th>4</th>\n",
       "      <td>AepIndianaMichiganTransmissionCompanyInc-440-2...</td>\n",
       "      <td>R001440</td>\n",
       "    </tr>\n",
       "    <tr>\n",
       "      <th>...</th>\n",
       "      <td>...</td>\n",
       "      <td>...</td>\n",
       "    </tr>\n",
       "    <tr>\n",
       "      <th>1257</th>\n",
       "      <td>WolverinePowerSupplyCooperativeInc-227-2021Q1F1</td>\n",
       "      <td>C001188</td>\n",
       "    </tr>\n",
       "    <tr>\n",
       "      <th>1258</th>\n",
       "      <td>WolverinePowerSupplyCooperativeInc-227-2021Q2F1</td>\n",
       "      <td>C001188</td>\n",
       "    </tr>\n",
       "    <tr>\n",
       "      <th>1259</th>\n",
       "      <td>YankeeAtomicElectricCompany-198-2020Q4F1</td>\n",
       "      <td>C002116</td>\n",
       "    </tr>\n",
       "    <tr>\n",
       "      <th>1260</th>\n",
       "      <td>YankeeAtomicElectricCompany-198-2021Q1F1</td>\n",
       "      <td>C002116</td>\n",
       "    </tr>\n",
       "    <tr>\n",
       "      <th>1261</th>\n",
       "      <td>YankeeAtomicElectricCompany-198-2021Q2F1</td>\n",
       "      <td>C002116</td>\n",
       "    </tr>\n",
       "  </tbody>\n",
       "</table>\n",
       "<p>1262 rows × 2 columns</p>\n",
       "</div>"
      ],
      "text/plain": [
       "                                            filing_name entity_id\n",
       "0     AepAppalachianTransmissionCompanyInc-436-2011Q3F1   R001436\n",
       "1     AepAppalachianTransmissionCompanyInc-436-2011Q4F1   R001436\n",
       "2                       AepGeneratingCompany-1-2011Q3F1   C003184\n",
       "3                       AepGeneratingCompany-1-2011Q4F1   C003184\n",
       "4     AepIndianaMichiganTransmissionCompanyInc-440-2...   R001440\n",
       "...                                                 ...       ...\n",
       "1257    WolverinePowerSupplyCooperativeInc-227-2021Q1F1   C001188\n",
       "1258    WolverinePowerSupplyCooperativeInc-227-2021Q2F1   C001188\n",
       "1259           YankeeAtomicElectricCompany-198-2020Q4F1   C002116\n",
       "1260           YankeeAtomicElectricCompany-198-2021Q1F1   C002116\n",
       "1261           YankeeAtomicElectricCompany-198-2021Q2F1   C002116\n",
       "\n",
       "[1262 rows x 2 columns]"
      ]
     },
     "execution_count": 3,
     "metadata": {},
     "output_type": "execute_result"
    }
   ],
   "source": [
    "id_table"
   ]
  },
  {
   "cell_type": "code",
   "execution_count": 11,
   "id": "7a139a94-938c-4c85-957f-6e8244f6dc91",
   "metadata": {},
   "outputs": [],
   "source": [
    "id_table[\"respondent_id\"] = id_table[\"filing_name\"].str.extract(r'.+-(\\d+)-.+')\n",
    "map_table = id_table.drop(\"filing_name\", axis=1).drop_duplicates()"
   ]
  },
  {
   "cell_type": "code",
   "execution_count": 16,
   "id": "d08ed2a1-950c-460f-ace0-0b2877b8f311",
   "metadata": {},
   "outputs": [],
   "source": [
    "map_table.to_csv(\"respondent_map.csv\", index=False)"
   ]
  },
  {
   "cell_type": "code",
   "execution_count": 22,
   "id": "7ede8dd1-4f7c-49b3-b0ad-a925ce650a3a",
   "metadata": {},
   "outputs": [
    {
     "data": {
      "text/plain": [
       "854     C000319\n",
       "1231    C001252\n",
       "Name: entity_id, dtype: object"
      ]
     },
     "execution_count": 22,
     "metadata": {},
     "output_type": "execute_result"
    }
   ],
   "source": [
    "map_table[\"entity_id\"][map_table[\"entity_id\"].duplicated()]"
   ]
  },
  {
   "cell_type": "code",
   "execution_count": null,
   "id": "45ab7fbd-1d4c-46aa-8247-9e7105819561",
   "metadata": {},
   "outputs": [],
   "source": []
  },
  {
   "cell_type": "code",
   "execution_count": null,
   "id": "26160cc7-d6e1-4878-8338-f51299c0568e",
   "metadata": {},
   "outputs": [],
   "source": []
  }
 ],
 "metadata": {
  "kernelspec": {
   "display_name": "Python 3 (ipykernel)",
   "language": "python",
   "name": "python3"
  },
  "language_info": {
   "codemirror_mode": {
    "name": "ipython",
    "version": 3
   },
   "file_extension": ".py",
   "mimetype": "text/x-python",
   "name": "python",
   "nbconvert_exporter": "python",
   "pygments_lexer": "ipython3",
   "version": "3.10.5"
  }
 },
 "nbformat": 4,
 "nbformat_minor": 5
}
