{
 "cells": [
  {
   "cell_type": "markdown",
   "id": "d9d7f81f-e654-46bf-b9da-020066c31888",
   "metadata": {},
   "source": [
    "# Notebook to map respondent ID to entity ID\n",
    "\n",
    "This notebook provides a simple \"first draft\" of mapping of `respondent_id`'s from the historical\n",
    "DBF based FERC data to `entity_id`'s in the new XBRL based data. To do this, this notebook\n",
    "will use the years of data that FERC has migrated to the new XBRL format. Each filing they\n",
    "have migrated contains the `respondent_id` in the file name, and the `entity_id` embedded in\n",
    "the filings.\n",
    "\n",
    "The first step is to extract the migrated filings to a SQLite database to make the entity ID's\n",
    "accessible. These filings can be downloaded [here](https://ferc.gov/filing-forms/eforms-refresh/migrated-data-downloads).\n",
    "There's not data for every filer included in each year of data, so using the entire set of years will\n",
    "provide the best results. To create the SQLite database, extract the downloaded zip files to a single\n",
    "directory, then use the FERC XBRL extractor tool with the following command:\n",
    "\n",
    "```\n",
    "xbrl_extract {path_to_filing_directory} ferc1.sqlite\n",
    "```"
   ]
  },
  {
   "cell_type": "code",
   "execution_count": null,
   "id": "61d162b1-0ef8-4387-b128-977574b48e6e",
   "metadata": {},
   "outputs": [],
   "source": [
    "import pandas as pd\n",
    "import numpy as np\n",
    "from sqlalchemy import create_engine"
   ]
  },
  {
   "cell_type": "markdown",
   "id": "410e7814-85af-42dc-bf26-e0189fde3d83",
   "metadata": {},
   "source": [
    "The only data needed to perform the mapping are the `filing_name`, and `entity_id` columns from the `identificiation_001_duration` table."
   ]
  },
  {
   "cell_type": "code",
   "execution_count": null,
   "id": "8d4716ae-7534-4758-be03-cfad971653de",
   "metadata": {},
   "outputs": [],
   "source": [
    "engine = create_engine(\"sqlite:///ferc1.sqlite\")\n",
    "\n",
    "# Select RespondentLegalName as well for convenience\n",
    "id_table = pd.read_sql(\n",
    "    \"SELECT filing_name, entity_id, RespondentLegalName FROM identification_001_duration\",\n",
    "    engine,\n",
    "    parse_dates=[\"start_date\", \"end_date\"]\n",
    ")"
   ]
  },
  {
   "cell_type": "markdown",
   "id": "09124f7d-37af-491a-92ef-a2c37f9dcaf2",
   "metadata": {},
   "source": [
    "The `respondent_id` is embedded in each filing name with the format `{UtilityName}-{respondent_id}-{year}{quarter}{form_number}`.\n",
    "The first step is extract that ID, then drop duplicate pairs (same pairs will exist for different years)."
   ]
  },
  {
   "cell_type": "code",
   "execution_count": null,
   "id": "7a139a94-938c-4c85-957f-6e8244f6dc91",
   "metadata": {},
   "outputs": [],
   "source": [
    "id_table[\"respondent_id\"] = pd.to_numeric(\n",
    "    id_table[\"filing_name\"].str.extract(r'.+-(\\d+)-.+').loc[:,0]\n",
    ")\n",
    "map_table = (\n",
    "    id_table.drop(\"filing_name\", axis=1)\n",
    "    .drop_duplicates(subset=[\"entity_id\", \"respondent_id\"])\n",
    "    .convert_dtypes()\n",
    "    .sort_values(by=[\"respondent_id\"])\n",
    ")"
   ]
  },
  {
   "cell_type": "markdown",
   "id": "fccd2d49-25b0-4e75-89c1-c9ec2f1aa069",
   "metadata": {},
   "source": [
    "Save the mapping to a CSV file."
   ]
  },
  {
   "cell_type": "code",
   "execution_count": null,
   "id": "d08ed2a1-950c-460f-ace0-0b2877b8f311",
   "metadata": {},
   "outputs": [],
   "source": [
    "map_table.to_csv(\"respondent_map.csv\", index=False)"
   ]
  },
  {
   "cell_type": "markdown",
   "id": "bf7d723c-635f-4d11-af6b-8f4956d89352",
   "metadata": {},
   "source": [
    "Check for any `entity_id`'s that map to multiple `respondent_id`'s. These will need to be analyzed\n",
    "further to identify if they are mistakes or if something else is happening."
   ]
  },
  {
   "cell_type": "code",
   "execution_count": null,
   "id": "26160cc7-d6e1-4878-8338-f51299c0568e",
   "metadata": {},
   "outputs": [],
   "source": [
    "map_table.loc[map_table[\"entity_id\"].duplicated(), :]"
   ]
  },
  {
   "cell_type": "code",
   "execution_count": null,
   "id": "f4be6063-3e9b-45ad-8e7a-ccc5723d31c0",
   "metadata": {},
   "outputs": [],
   "source": []
  }
 ],
 "metadata": {
  "kernelspec": {
   "display_name": "Python 3 (ipykernel)",
   "language": "python",
   "name": "python3"
  },
  "language_info": {
   "codemirror_mode": {
    "name": "ipython",
    "version": 3
   },
   "file_extension": ".py",
   "mimetype": "text/x-python",
   "name": "python",
   "nbconvert_exporter": "python",
   "pygments_lexer": "ipython3",
   "version": "3.9.7"
  }
 },
 "nbformat": 4,
 "nbformat_minor": 5
}
