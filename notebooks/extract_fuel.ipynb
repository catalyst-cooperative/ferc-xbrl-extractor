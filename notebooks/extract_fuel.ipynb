{
 "cells": [
  {
   "cell_type": "markdown",
   "id": "719bdac4-323e-4926-94b6-c0ebc1b84f4a",
   "metadata": {},
   "source": [
    "# Description\n",
    "This notebook demonstrates the process for transforming FERC Form 1 data distributed in the new XBRL format to be compatible with historical data. It focuses on recreating the `f1_fuel` table, but the process will be very similar for the rest of the tables.\n",
    "\n",
    "This notebook requires a sqlite database containing data already extracted from XBRL filings. To extract this data you can use the CLI included in this repo. There's a zip file in the root directory of this repo that contains a years worth of filings. To extract data from these filings, first extract the zip file, then run the following command:\n",
    "\n",
    "`xbrl_extract https://ecollection.ferc.gov/taxonomy/form1/2022-01-01/form/form1/form-1_2022-01-01.xsd {path_to_filings} --to-sql notebooks/ferc1.sqlite`"
   ]
  },
  {
   "cell_type": "code",
   "execution_count": null,
   "id": "b922ed41-ae16-4929-acd2-9d250c260349",
   "metadata": {},
   "outputs": [],
   "source": [
    "import pandas as pd\n",
    "import numpy as np\n",
    "from sqlalchemy import create_engine"
   ]
  },
  {
   "cell_type": "markdown",
   "id": "fb18334a-d4f3-4327-8ab4-36155d5c8ac7",
   "metadata": {},
   "source": [
    "First load the relevant table from raw database. The tables in the raw database correspond directly to the PDF pages of the FERC form 1."
   ]
  },
  {
   "cell_type": "code",
   "execution_count": null,
   "id": "ad48f304-d9cd-496f-9ad1-e175a7bf3ef7",
   "metadata": {},
   "outputs": [],
   "source": [
    "engine = create_engine(\"sqlite:///ferc1.sqlite\")\n",
    "\n",
    "fuel_stats = pd.read_sql(\n",
    "    \"402 - Schedule - Steam-Electric Generating Plant Statistics (Large Plants) - Fuel Statistics\",\n",
    "    engine,\n",
    "    parse_dates=[\"start_date\", \"end_date\"]\n",
    ").drop(\"index\", axis=1)"
   ]
  },
  {
   "cell_type": "code",
   "execution_count": null,
   "id": "d0aecf35-311b-46ce-afe4-5f1e7e614d07",
   "metadata": {},
   "outputs": [],
   "source": [
    "fuel_stats"
   ]
  },
  {
   "cell_type": "markdown",
   "id": "299b7b1d-64bb-45d3-bf27-003abe178843",
   "metadata": {},
   "source": [
    "Upon close examination, it's clear that this table is very similar to the `ferc_fuel` table in the old database. This new table doesn't have the columns `report_year`, `supplmnt_num`, `row_number`, `row_seq`, `row_prvlg`, but many of these can be derived from other information as I'll demonstrate later. There are also many columns which are very similar, but slightly different (camel case vs snake case, names fully spelled vs abreviations, some words are reordered). These columns, however, maintain the same order as in the old database, which makes mapping between them quite easy."
   ]
  },
  {
   "cell_type": "code",
   "execution_count": null,
   "id": "58640d4b",
   "metadata": {},
   "outputs": [],
   "source": [
    "# There's no respondent_id in the new database, but they have a company identifier which I've used in place of the the respondent_id\n",
    "# The report_year can be extracted from the start_date\n",
    "ferc_fuel_dict = {\n",
    "    'respondent_id': fuel_stats['entity_id'],\n",
    "    'report_year': fuel_stats['start_date'].dt.year,\n",
    "    'supplmnt_num': np.zeros(len(fuel_stats), dtype=int),\n",
    "    'row_number': np.zeros(len(fuel_stats), dtype=int),\n",
    "    'row_seq': np.zeros(len(fuel_stats), dtype=int),\n",
    "    'row_prvlg': np.zeros(len(fuel_stats), dtype=int),\n",
    "\n",
    "}\n",
    "\n",
    "# Drop first several columns to align the order of the remaining columns\n",
    "fuel = fuel_stats.drop(['entity_id', 'start_date', 'end_date', 'instant', 'FuelKindAxis'], axis=1)\n",
    "ferc_fuel_data_cols = ['plant_name', 'fuel', 'fuel_unit', 'fuel_quantity', 'fuel_avg_heat', 'fuel_cost_delvd',\n",
    "                       'fuel_cost_burned', 'fuel_cost_btu', 'fuel_cost_kwh', 'fuel_generation']\n",
    "\n",
    "# Change column names\n",
    "ferc_fuel_dict.update({old_col: fuel[new_col] for old_col, new_col in zip(ferc_fuel_data_cols, fuel.columns)})\n",
    "\n",
    "ferc_fuel = pd.DataFrame(ferc_fuel_dict)"
   ]
  },
  {
   "cell_type": "code",
   "execution_count": null,
   "id": "701c62b6-67de-4a4f-82ca-d4cfb55f3b20",
   "metadata": {},
   "outputs": [],
   "source": [
    "ferc_fuel"
   ]
  },
  {
   "cell_type": "markdown",
   "id": "4fe46dae-ae7a-4950-9fa5-2fc13351c5f0",
   "metadata": {},
   "source": [
    "Some tables have a column named `OrderNumber` that corresponds to the `row_number`, but this one does not. The `row_number` and `supplmnt_num` can, however, be deduced from the `respondent_id`. For this table, row number increments by one for each record submitted by an individual respondent until 15, then starts over at 1 and increases the `supplmnt_num` by 1."
   ]
  },
  {
   "cell_type": "code",
   "execution_count": null,
   "id": "95bdd7eb-94ba-4ffd-a522-2929c0b1d559",
   "metadata": {},
   "outputs": [],
   "source": [
    "# Loop through unique respondents and set row/supplmnt numbers based on previous rule\n",
    "for respondent in ferc_fuel['respondent_id'].unique():\n",
    "    respondent_inds = ferc_fuel['respondent_id'] == respondent\n",
    "    ferc_fuel.loc[respondent_inds, 'row_number'] = (np.arange(respondent_inds.sum()) % 14) + 1\n",
    "    ferc_fuel.loc[respondent_inds, 'supplmnt_num'] = np.arange(respondent_inds.sum()) // 14"
   ]
  },
  {
   "cell_type": "code",
   "execution_count": null,
   "id": "5c597fb1-aa6f-4270-805e-a89f62712c1c",
   "metadata": {},
   "outputs": [],
   "source": [
    "ferc_fuel"
   ]
  },
  {
   "cell_type": "code",
   "execution_count": null,
   "id": "18284bb4",
   "metadata": {},
   "outputs": [],
   "source": []
  }
 ],
 "metadata": {
  "kernelspec": {
   "display_name": "Python 3 (ipykernel)",
   "language": "python",
   "name": "python3"
  },
  "language_info": {
   "codemirror_mode": {
    "name": "ipython",
    "version": 3
   },
   "file_extension": ".py",
   "mimetype": "text/x-python",
   "name": "python",
   "nbconvert_exporter": "python",
   "pygments_lexer": "ipython3",
   "version": "3.10.4"
  }
 },
 "nbformat": 4,
 "nbformat_minor": 5
}
